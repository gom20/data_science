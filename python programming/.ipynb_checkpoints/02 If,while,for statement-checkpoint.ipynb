{
 "cells": [
  {
   "cell_type": "code",
   "execution_count": 8,
   "metadata": {},
   "outputs": [
    {
     "name": "stdout",
     "output_type": "stream",
     "text": [
      "bbb\n",
      "TEST\n",
      "10아니야\n"
     ]
    }
   ],
   "source": [
    "a = 4\n",
    "if a>=5:\n",
    "    print('Aaa')\n",
    "else:\n",
    "     print('bbb')\n",
    "        \n",
    "if a==4 and a >=2:\n",
    "    print('TEST')\n",
    "else:\n",
    "    print('TTTT')\n",
    "    \n",
    "if not a==10 :\n",
    "    print('10아니야')"
   ]
  },
  {
   "cell_type": "code",
   "execution_count": 11,
   "metadata": {},
   "outputs": [
    {
     "name": "stdout",
     "output_type": "stream",
     "text": [
      "짝수\n"
     ]
    }
   ],
   "source": [
    "a = 10\n",
    "if a%2==0: \n",
    "    print(\"짝수\")\n",
    "else : \n",
    "    print(\"홀수\")"
   ]
  },
  {
   "cell_type": "code",
   "execution_count": 15,
   "metadata": {},
   "outputs": [
    {
     "name": "stdout",
     "output_type": "stream",
     "text": [
      "3의 배수\n"
     ]
    }
   ],
   "source": [
    "a = 9\n",
    "if a%4 == 0:\n",
    "    print('4의 배수')\n",
    "elif a%3 == 0:\n",
    "    print('3의 배수')\n",
    "else:\n",
    "    print('나머지')"
   ]
  },
  {
   "cell_type": "code",
   "execution_count": null,
   "metadata": {},
   "outputs": [],
   "source": [
    "a = [1, 2, 3, 4, 5, 6, 7, 8]\n",
    "\n",
    "i = 0\n",
    "while i < len(a):\n",
    "    print(a[i])\n",
    "    i += 1\n",
    "\n",
    "print('end')"
   ]
  }
 ],
 "metadata": {
  "kernelspec": {
   "display_name": "Python 3",
   "language": "python",
   "name": "python3"
  },
  "language_info": {
   "codemirror_mode": {
    "name": "ipython",
    "version": 3
   },
   "file_extension": ".py",
   "mimetype": "text/x-python",
   "name": "python",
   "nbconvert_exporter": "python",
   "pygments_lexer": "ipython3",
   "version": "3.8.5"
  }
 },
 "nbformat": 4,
 "nbformat_minor": 4
}
